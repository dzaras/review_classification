{
  "nbformat": 4,
  "nbformat_minor": 0,
  "metadata": {
    "colab": {
      "name": "Copy of 3_Text_Classification_for_actors_gender_update-8-18-21.ipynb",
      "provenance": [],
      "collapsed_sections": [
        "Ii3tksfZpoTA"
      ],
      "include_colab_link": true
    },
    "kernelspec": {
      "name": "python3",
      "display_name": "Python 3"
    },
    "language_info": {
      "name": "python"
    },
    "accelerator": "GPU"
  },
  "cells": [
    {
      "cell_type": "markdown",
      "metadata": {
        "id": "view-in-github",
        "colab_type": "text"
      },
      "source": [
        "<a href=\"https://colab.research.google.com/github/dzaras/review_classification/blob/main/Copy_of_3_Text_Classification_for_actors_gender_update_8_18_21.ipynb\" target=\"_parent\"><img src=\"https://colab.research.google.com/assets/colab-badge.svg\" alt=\"Open In Colab\"/></a>"
      ]
    },
    {
      "cell_type": "code",
      "metadata": {
        "colab": {
          "base_uri": "https://localhost:8080/"
        },
        "id": "nD1ZrE7QasRE",
        "outputId": "4881bc68-202c-4be5-956c-5f3b9edb0c8e"
      },
      "source": [
        "!pip install nltk\n",
        "!pip install numpy \n",
        "!pip install pandas\n",
        "!pip install gensim\n",
        "!pip install sklearn\n",
        "!pip install ktrain"
      ],
      "execution_count": null,
      "outputs": [
        {
          "output_type": "stream",
          "text": [
            "Requirement already satisfied: nltk in /usr/local/lib/python3.7/dist-packages (3.2.5)\n",
            "Requirement already satisfied: six in /usr/local/lib/python3.7/dist-packages (from nltk) (1.15.0)\n",
            "Requirement already satisfied: numpy in /usr/local/lib/python3.7/dist-packages (1.19.5)\n",
            "Requirement already satisfied: pandas in /usr/local/lib/python3.7/dist-packages (1.1.5)\n",
            "Requirement already satisfied: numpy>=1.15.4 in /usr/local/lib/python3.7/dist-packages (from pandas) (1.19.5)\n",
            "Requirement already satisfied: python-dateutil>=2.7.3 in /usr/local/lib/python3.7/dist-packages (from pandas) (2.8.2)\n",
            "Requirement already satisfied: pytz>=2017.2 in /usr/local/lib/python3.7/dist-packages (from pandas) (2018.9)\n",
            "Requirement already satisfied: six>=1.5 in /usr/local/lib/python3.7/dist-packages (from python-dateutil>=2.7.3->pandas) (1.15.0)\n",
            "Requirement already satisfied: gensim in /usr/local/lib/python3.7/dist-packages (3.6.0)\n",
            "Requirement already satisfied: scipy>=0.18.1 in /usr/local/lib/python3.7/dist-packages (from gensim) (1.4.1)\n",
            "Requirement already satisfied: six>=1.5.0 in /usr/local/lib/python3.7/dist-packages (from gensim) (1.15.0)\n",
            "Requirement already satisfied: numpy>=1.11.3 in /usr/local/lib/python3.7/dist-packages (from gensim) (1.19.5)\n",
            "Requirement already satisfied: smart-open>=1.2.1 in /usr/local/lib/python3.7/dist-packages (from gensim) (5.1.0)\n",
            "Requirement already satisfied: sklearn in /usr/local/lib/python3.7/dist-packages (0.0)\n",
            "Requirement already satisfied: scikit-learn in /usr/local/lib/python3.7/dist-packages (from sklearn) (0.23.2)\n",
            "Requirement already satisfied: threadpoolctl>=2.0.0 in /usr/local/lib/python3.7/dist-packages (from scikit-learn->sklearn) (2.2.0)\n",
            "Requirement already satisfied: numpy>=1.13.3 in /usr/local/lib/python3.7/dist-packages (from scikit-learn->sklearn) (1.19.5)\n",
            "Requirement already satisfied: joblib>=0.11 in /usr/local/lib/python3.7/dist-packages (from scikit-learn->sklearn) (1.0.1)\n",
            "Requirement already satisfied: scipy>=0.19.1 in /usr/local/lib/python3.7/dist-packages (from scikit-learn->sklearn) (1.4.1)\n",
            "Requirement already satisfied: ktrain in /usr/local/lib/python3.7/dist-packages (0.27.2)\n",
            "Requirement already satisfied: fastprogress>=0.1.21 in /usr/local/lib/python3.7/dist-packages (from ktrain) (1.0.0)\n",
            "Requirement already satisfied: keras-bert>=0.86.0 in /usr/local/lib/python3.7/dist-packages (from ktrain) (0.88.0)\n",
            "Requirement already satisfied: langdetect in /usr/local/lib/python3.7/dist-packages (from ktrain) (1.0.9)\n",
            "Requirement already satisfied: chardet in /usr/local/lib/python3.7/dist-packages (from ktrain) (3.0.4)\n",
            "Requirement already satisfied: networkx>=2.3 in /usr/local/lib/python3.7/dist-packages (from ktrain) (2.6.2)\n",
            "Requirement already satisfied: scikit-learn==0.23.2 in /usr/local/lib/python3.7/dist-packages (from ktrain) (0.23.2)\n",
            "Requirement already satisfied: sentencepiece in /usr/local/lib/python3.7/dist-packages (from ktrain) (0.1.96)\n",
            "Requirement already satisfied: cchardet in /usr/local/lib/python3.7/dist-packages (from ktrain) (2.1.7)\n",
            "Requirement already satisfied: requests in /usr/local/lib/python3.7/dist-packages (from ktrain) (2.23.0)\n",
            "Requirement already satisfied: seqeval==0.0.19 in /usr/local/lib/python3.7/dist-packages (from ktrain) (0.0.19)\n",
            "Requirement already satisfied: ipython in /usr/local/lib/python3.7/dist-packages (from ktrain) (5.5.0)\n",
            "Requirement already satisfied: joblib in /usr/local/lib/python3.7/dist-packages (from ktrain) (1.0.1)\n",
            "Requirement already satisfied: packaging in /usr/local/lib/python3.7/dist-packages (from ktrain) (21.0)\n",
            "Requirement already satisfied: jieba in /usr/local/lib/python3.7/dist-packages (from ktrain) (0.42.1)\n",
            "Requirement already satisfied: whoosh in /usr/local/lib/python3.7/dist-packages (from ktrain) (2.7.4)\n",
            "Requirement already satisfied: transformers<=4.3.3,>=4.0.0 in /usr/local/lib/python3.7/dist-packages (from ktrain) (4.3.3)\n",
            "Requirement already satisfied: matplotlib>=3.0.0 in /usr/local/lib/python3.7/dist-packages (from ktrain) (3.2.2)\n",
            "Requirement already satisfied: syntok in /usr/local/lib/python3.7/dist-packages (from ktrain) (1.3.1)\n",
            "Requirement already satisfied: pandas>=1.0.1 in /usr/local/lib/python3.7/dist-packages (from ktrain) (1.1.5)\n",
            "Requirement already satisfied: numpy>=1.13.3 in /usr/local/lib/python3.7/dist-packages (from scikit-learn==0.23.2->ktrain) (1.19.5)\n",
            "Requirement already satisfied: threadpoolctl>=2.0.0 in /usr/local/lib/python3.7/dist-packages (from scikit-learn==0.23.2->ktrain) (2.2.0)\n",
            "Requirement already satisfied: scipy>=0.19.1 in /usr/local/lib/python3.7/dist-packages (from scikit-learn==0.23.2->ktrain) (1.4.1)\n",
            "Requirement already satisfied: Keras>=2.2.4 in /usr/local/lib/python3.7/dist-packages (from seqeval==0.0.19->ktrain) (2.6.0)\n",
            "Requirement already satisfied: keras-transformer>=0.39.0 in /usr/local/lib/python3.7/dist-packages (from keras-bert>=0.86.0->ktrain) (0.39.0)\n",
            "Requirement already satisfied: keras-multi-head>=0.28.0 in /usr/local/lib/python3.7/dist-packages (from keras-transformer>=0.39.0->keras-bert>=0.86.0->ktrain) (0.28.0)\n",
            "Requirement already satisfied: keras-pos-embd>=0.12.0 in /usr/local/lib/python3.7/dist-packages (from keras-transformer>=0.39.0->keras-bert>=0.86.0->ktrain) (0.12.0)\n",
            "Requirement already satisfied: keras-position-wise-feed-forward>=0.7.0 in /usr/local/lib/python3.7/dist-packages (from keras-transformer>=0.39.0->keras-bert>=0.86.0->ktrain) (0.7.0)\n",
            "Requirement already satisfied: keras-layer-normalization>=0.15.0 in /usr/local/lib/python3.7/dist-packages (from keras-transformer>=0.39.0->keras-bert>=0.86.0->ktrain) (0.15.0)\n",
            "Requirement already satisfied: keras-embed-sim>=0.9.0 in /usr/local/lib/python3.7/dist-packages (from keras-transformer>=0.39.0->keras-bert>=0.86.0->ktrain) (0.9.0)\n",
            "Requirement already satisfied: keras-self-attention>=0.50.0 in /usr/local/lib/python3.7/dist-packages (from keras-multi-head>=0.28.0->keras-transformer>=0.39.0->keras-bert>=0.86.0->ktrain) (0.50.0)\n",
            "Requirement already satisfied: python-dateutil>=2.1 in /usr/local/lib/python3.7/dist-packages (from matplotlib>=3.0.0->ktrain) (2.8.2)\n",
            "Requirement already satisfied: pyparsing!=2.0.4,!=2.1.2,!=2.1.6,>=2.0.1 in /usr/local/lib/python3.7/dist-packages (from matplotlib>=3.0.0->ktrain) (2.4.7)\n",
            "Requirement already satisfied: cycler>=0.10 in /usr/local/lib/python3.7/dist-packages (from matplotlib>=3.0.0->ktrain) (0.10.0)\n",
            "Requirement already satisfied: kiwisolver>=1.0.1 in /usr/local/lib/python3.7/dist-packages (from matplotlib>=3.0.0->ktrain) (1.3.1)\n",
            "Requirement already satisfied: six in /usr/local/lib/python3.7/dist-packages (from cycler>=0.10->matplotlib>=3.0.0->ktrain) (1.15.0)\n",
            "Requirement already satisfied: pytz>=2017.2 in /usr/local/lib/python3.7/dist-packages (from pandas>=1.0.1->ktrain) (2018.9)\n",
            "Requirement already satisfied: importlib-metadata in /usr/local/lib/python3.7/dist-packages (from transformers<=4.3.3,>=4.0.0->ktrain) (4.6.4)\n",
            "Requirement already satisfied: sacremoses in /usr/local/lib/python3.7/dist-packages (from transformers<=4.3.3,>=4.0.0->ktrain) (0.0.45)\n",
            "Requirement already satisfied: filelock in /usr/local/lib/python3.7/dist-packages (from transformers<=4.3.3,>=4.0.0->ktrain) (3.0.12)\n",
            "Requirement already satisfied: tokenizers<0.11,>=0.10.1 in /usr/local/lib/python3.7/dist-packages (from transformers<=4.3.3,>=4.0.0->ktrain) (0.10.3)\n",
            "Requirement already satisfied: tqdm>=4.27 in /usr/local/lib/python3.7/dist-packages (from transformers<=4.3.3,>=4.0.0->ktrain) (4.62.0)\n",
            "Requirement already satisfied: regex!=2019.12.17 in /usr/local/lib/python3.7/dist-packages (from transformers<=4.3.3,>=4.0.0->ktrain) (2019.12.20)\n",
            "Requirement already satisfied: typing-extensions>=3.6.4 in /usr/local/lib/python3.7/dist-packages (from importlib-metadata->transformers<=4.3.3,>=4.0.0->ktrain) (3.7.4.3)\n",
            "Requirement already satisfied: zipp>=0.5 in /usr/local/lib/python3.7/dist-packages (from importlib-metadata->transformers<=4.3.3,>=4.0.0->ktrain) (3.5.0)\n",
            "Requirement already satisfied: prompt-toolkit<2.0.0,>=1.0.4 in /usr/local/lib/python3.7/dist-packages (from ipython->ktrain) (1.0.18)\n",
            "Requirement already satisfied: traitlets>=4.2 in /usr/local/lib/python3.7/dist-packages (from ipython->ktrain) (5.0.5)\n",
            "Requirement already satisfied: simplegeneric>0.8 in /usr/local/lib/python3.7/dist-packages (from ipython->ktrain) (0.8.1)\n",
            "Requirement already satisfied: decorator in /usr/local/lib/python3.7/dist-packages (from ipython->ktrain) (4.4.2)\n",
            "Requirement already satisfied: pexpect in /usr/local/lib/python3.7/dist-packages (from ipython->ktrain) (4.8.0)\n",
            "Requirement already satisfied: setuptools>=18.5 in /usr/local/lib/python3.7/dist-packages (from ipython->ktrain) (57.4.0)\n",
            "Requirement already satisfied: pickleshare in /usr/local/lib/python3.7/dist-packages (from ipython->ktrain) (0.7.5)\n",
            "Requirement already satisfied: pygments in /usr/local/lib/python3.7/dist-packages (from ipython->ktrain) (2.6.1)\n",
            "Requirement already satisfied: wcwidth in /usr/local/lib/python3.7/dist-packages (from prompt-toolkit<2.0.0,>=1.0.4->ipython->ktrain) (0.2.5)\n",
            "Requirement already satisfied: ipython-genutils in /usr/local/lib/python3.7/dist-packages (from traitlets>=4.2->ipython->ktrain) (0.2.0)\n",
            "Requirement already satisfied: ptyprocess>=0.5 in /usr/local/lib/python3.7/dist-packages (from pexpect->ipython->ktrain) (0.7.0)\n",
            "Requirement already satisfied: idna<3,>=2.5 in /usr/local/lib/python3.7/dist-packages (from requests->ktrain) (2.10)\n",
            "Requirement already satisfied: urllib3!=1.25.0,!=1.25.1,<1.26,>=1.21.1 in /usr/local/lib/python3.7/dist-packages (from requests->ktrain) (1.24.3)\n",
            "Requirement already satisfied: certifi>=2017.4.17 in /usr/local/lib/python3.7/dist-packages (from requests->ktrain) (2021.5.30)\n",
            "Requirement already satisfied: click in /usr/local/lib/python3.7/dist-packages (from sacremoses->transformers<=4.3.3,>=4.0.0->ktrain) (7.1.2)\n"
          ],
          "name": "stdout"
        }
      ]
    },
    {
      "cell_type": "markdown",
      "metadata": {
        "id": "ognOoMmsQWFO"
      },
      "source": [
        "# Overview\n",
        "## 1. Metrics for Text Classification\n",
        "\n",
        "## 2. Example: \n",
        "1. Text Classification with Kears (GPU is needed).     \n",
        "      Edit --- Notebook Settings --- Hardware accelerator --- GPU\n",
        "\n",
        "2. (Optional) Text Classification with sklearn (GPU is not needed)\n",
        "\n",
        "## 3. Exercise: Hate-speech Classification \n"
      ]
    },
    {
      "cell_type": "markdown",
      "metadata": {
        "id": "NABRP1qpSEAy"
      },
      "source": [
        "# Metrics for Text Classification\n",
        "\n",
        "In this section, we will go through how to compute different metrics for classification tasks with sklearn. \n",
        "\n",
        "Basically, you need to input a list of predicted lables and the ground truth, and the built-in function will return the calculated results"
      ]
    },
    {
      "cell_type": "markdown",
      "metadata": {
        "id": "6EcR8BlmSgUh"
      },
      "source": [
        "## Accuracy: "
      ]
    },
    {
      "cell_type": "code",
      "metadata": {
        "id": "wyOR89nYSGSs"
      },
      "source": [
        "from sklearn.metrics import accuracy_score"
      ],
      "execution_count": null,
      "outputs": []
    },
    {
      "cell_type": "code",
      "metadata": {
        "id": "TQWP5jfjSu90"
      },
      "source": [
        "y_pred = [0, 2, 1, 3]\n",
        "y_true = [0, 1, 2, 3]"
      ],
      "execution_count": null,
      "outputs": []
    },
    {
      "cell_type": "code",
      "metadata": {
        "colab": {
          "base_uri": "https://localhost:8080/"
        },
        "id": "ETJuqUCRTFcK",
        "outputId": "aaf6e31d-d0eb-4a27-b1bd-f426d44aa8f0"
      },
      "source": [
        "accuracy_score(y_true, y_pred)"
      ],
      "execution_count": null,
      "outputs": [
        {
          "output_type": "execute_result",
          "data": {
            "text/plain": [
              "0.5"
            ]
          },
          "metadata": {},
          "execution_count": 38
        }
      ]
    },
    {
      "cell_type": "markdown",
      "metadata": {
        "id": "_cvz4eSuTNBW"
      },
      "source": [
        "## Precission, Recall and F1\n",
        "\n",
        "Note: Macro vs Micro:\n",
        "\n",
        "Macro: Calculate metrics for each label, and find their unweighted mean.\n",
        "\n",
        "Micro: Calculate metrics globally by counting the total true positives, false negatives and false positives."
      ]
    },
    {
      "cell_type": "code",
      "metadata": {
        "id": "anWGCxMdTPnm"
      },
      "source": [
        "from sklearn.metrics import precision_score\n",
        "from sklearn.metrics import recall_score\n",
        "from sklearn.metrics import f1_score"
      ],
      "execution_count": null,
      "outputs": []
    },
    {
      "cell_type": "code",
      "metadata": {
        "id": "AAd81VHqTa2z"
      },
      "source": [
        "y_true = [0, 1, 2, 0, 1, 2]\n",
        "y_pred = [0, 2, 1, 0, 0, 1]"
      ],
      "execution_count": null,
      "outputs": []
    },
    {
      "cell_type": "code",
      "metadata": {
        "colab": {
          "base_uri": "https://localhost:8080/"
        },
        "id": "vvQXORwfThAF",
        "outputId": "6de76c95-0b54-4a89-cfcb-d63ad60d9868"
      },
      "source": [
        "precision_score(y_true, y_pred, average='micro')"
      ],
      "execution_count": null,
      "outputs": [
        {
          "output_type": "execute_result",
          "data": {
            "text/plain": [
              "0.3333333333333333"
            ]
          },
          "metadata": {},
          "execution_count": 41
        }
      ]
    },
    {
      "cell_type": "code",
      "metadata": {
        "colab": {
          "base_uri": "https://localhost:8080/"
        },
        "id": "oatcv-YXT2vD",
        "outputId": "140b786a-5944-40dd-d4fa-99f3ac194831"
      },
      "source": [
        "recall_score(y_true, y_pred, average='micro')"
      ],
      "execution_count": null,
      "outputs": [
        {
          "output_type": "execute_result",
          "data": {
            "text/plain": [
              "0.3333333333333333"
            ]
          },
          "metadata": {},
          "execution_count": 42
        }
      ]
    },
    {
      "cell_type": "code",
      "metadata": {
        "colab": {
          "base_uri": "https://localhost:8080/"
        },
        "id": "OM511eGLT55C",
        "outputId": "ccc1923c-432d-4322-828f-234522214244"
      },
      "source": [
        "f1_score(y_true, y_pred, average='micro')"
      ],
      "execution_count": null,
      "outputs": [
        {
          "output_type": "execute_result",
          "data": {
            "text/plain": [
              "0.3333333333333333"
            ]
          },
          "metadata": {},
          "execution_count": 43
        }
      ]
    },
    {
      "cell_type": "markdown",
      "metadata": {
        "id": "TDiielK-V3Zt"
      },
      "source": [
        "# Example: Text Classification \n",
        "\n",
        "In this section we will go through the process to perform text classification with Keras.\n",
        "\n",
        "\n",
        "Optionally, we will also show the process to perform text classification with LogisticRegression using sklearn. Basically, we need first extract text representation with sklearn and then utilize built-in model in sklearn to learn the classification model.\n",
        "\n",
        "Here let's use the 20-newsgroup data as an example."
      ]
    },
    {
      "cell_type": "code",
      "metadata": {
        "id": "kn59tHRbq2zc",
        "colab": {
          "base_uri": "https://localhost:8080/"
        },
        "outputId": "5b1df920-6e83-4912-95fa-cec0385ef0e6"
      },
      "source": [
        "import pandas as pd\n",
        "\n",
        "# Here we use 20-Newsgroups dataset (http://qwone.com/~jason/20Newsgroups/) for this example. \n",
        "# This version of the dataset contains about 11k newsgroups posts from 20 different topics. \n",
        "# This is available as https://raw.githubusercontent.com/selva86/datasets/master/newsgroups.json\n",
        "\n",
        "#url = 'https://raw.githubusercontent.com/dzaras/review_classification/main/newspaper_data_3_labels.csv'\n",
        "\n",
        "raw_data = pd.read_csv('https://raw.githubusercontent.com/dzaras/review_classification/main/amateur_reviews_08_actor_labels.csv' , encoding='latin-1')\n",
        "#raw_data = pd.read_csv('https://raw.githubusercontent.com/dzaras/review_classification/main/newspaper_data_only_neg-pos.csv' , encoding='latin-1')\n",
        "\n",
        "\n",
        "#raw_data = pd.read_json('https://raw.githubusercontent.com/selva86/datasets/master/newsgroups.json')\n",
        "\n",
        "print(raw_data)"
      ],
      "execution_count": null,
      "outputs": [
        {
          "output_type": "stream",
          "text": [
            "                                film.title  ...                                            content\n",
            "0       What Happens in Vegas               ...  The story behind this Romantic Comedy is that ...\n",
            "1                 Untraceable               ...  This story of a crazed killer using hits on a ...\n",
            "2                   Get Smart               ...  This film is about an incompetent agent who is...\n",
            "3                   Good Dick               ...  I always check the spoiler box, just in case.T...\n",
            "4          Frygtelig lykkelig               ...  Nicely done. I am glad I picked this one out. ...\n",
            "...                                    ...  ...                                                ...\n",
            "2363             The Bank Job               ...  Having been weaned on The Italian Job, Thomas ...\n",
            "2364             The Bank Job               ...  I liked the film to start with - bit cheeky, t...\n",
            "2365     La siciliana ribelle               ...  While this film adds one of the faces that cou...\n",
            "2366  The Secret Life of Bees               ...  Wow. This was a really good movie. The only re...\n",
            "2367         Four Christmases               ...  Brad and Kate, an urbanite unmarried couple wi...\n",
            "\n",
            "[2368 rows x 8 columns]\n"
          ],
          "name": "stdout"
        }
      ]
    },
    {
      "cell_type": "code",
      "metadata": {
        "colab": {
          "base_uri": "https://localhost:8080/"
        },
        "id": "n0vlnN87q4pK",
        "outputId": "31acb1a6-76c2-4f1e-b07c-027dc488740c"
      },
      "source": [
        "raw_data.dtypes"
      ],
      "execution_count": null,
      "outputs": [
        {
          "output_type": "execute_result",
          "data": {
            "text/plain": [
              "film.title      object\n",
              "author          object\n",
              "target           int64\n",
              "target_name     object\n",
              "genre           object\n",
              "year             int64\n",
              "rating         float64\n",
              "content         object\n",
              "dtype: object"
            ]
          },
          "metadata": {},
          "execution_count": 45
        }
      ]
    },
    {
      "cell_type": "code",
      "metadata": {
        "id": "FUKWHm5llMJ_"
      },
      "source": [
        "raw_data['content'] = raw_data['content'].astype('string')"
      ],
      "execution_count": null,
      "outputs": []
    },
    {
      "cell_type": "code",
      "metadata": {
        "colab": {
          "base_uri": "https://localhost:8080/"
        },
        "id": "Dk1GsF6flfqT",
        "outputId": "b4c118a1-cbfc-4ca8-96e4-78b6016a1825"
      },
      "source": [
        "raw_data.dtypes"
      ],
      "execution_count": null,
      "outputs": [
        {
          "output_type": "execute_result",
          "data": {
            "text/plain": [
              "film.title      object\n",
              "author          object\n",
              "target           int64\n",
              "target_name     object\n",
              "genre           object\n",
              "year             int64\n",
              "rating         float64\n",
              "content         string\n",
              "dtype: object"
            ]
          },
          "metadata": {},
          "execution_count": 47
        }
      ]
    },
    {
      "cell_type": "code",
      "metadata": {
        "colab": {
          "base_uri": "https://localhost:8080/",
          "height": 419
        },
        "id": "TMbXn8GBkjdn",
        "outputId": "a18f5368-c065-4093-864c-a62ef3217708"
      },
      "source": [
        "raw_data"
      ],
      "execution_count": null,
      "outputs": [
        {
          "output_type": "execute_result",
          "data": {
            "text/html": [
              "<div>\n",
              "<style scoped>\n",
              "    .dataframe tbody tr th:only-of-type {\n",
              "        vertical-align: middle;\n",
              "    }\n",
              "\n",
              "    .dataframe tbody tr th {\n",
              "        vertical-align: top;\n",
              "    }\n",
              "\n",
              "    .dataframe thead th {\n",
              "        text-align: right;\n",
              "    }\n",
              "</style>\n",
              "<table border=\"1\" class=\"dataframe\">\n",
              "  <thead>\n",
              "    <tr style=\"text-align: right;\">\n",
              "      <th></th>\n",
              "      <th>film.title</th>\n",
              "      <th>author</th>\n",
              "      <th>target</th>\n",
              "      <th>target_name</th>\n",
              "      <th>genre</th>\n",
              "      <th>year</th>\n",
              "      <th>rating</th>\n",
              "      <th>content</th>\n",
              "    </tr>\n",
              "  </thead>\n",
              "  <tbody>\n",
              "    <tr>\n",
              "      <th>0</th>\n",
              "      <td>What Happens in Vegas</td>\n",
              "      <td>MovieBuff26</td>\n",
              "      <td>1</td>\n",
              "      <td>female</td>\n",
              "      <td>comedy</td>\n",
              "      <td>2010</td>\n",
              "      <td>8.0</td>\n",
              "      <td>The story behind this Romantic Comedy is that ...</td>\n",
              "    </tr>\n",
              "    <tr>\n",
              "      <th>1</th>\n",
              "      <td>Untraceable</td>\n",
              "      <td>tatz32000</td>\n",
              "      <td>1</td>\n",
              "      <td>female</td>\n",
              "      <td>crime</td>\n",
              "      <td>2008</td>\n",
              "      <td>7.0</td>\n",
              "      <td>This story of a crazed killer using hits on a ...</td>\n",
              "    </tr>\n",
              "    <tr>\n",
              "      <th>2</th>\n",
              "      <td>Get Smart</td>\n",
              "      <td>Gordon-11</td>\n",
              "      <td>0</td>\n",
              "      <td>male</td>\n",
              "      <td>NaN</td>\n",
              "      <td>2008</td>\n",
              "      <td>NaN</td>\n",
              "      <td>This film is about an incompetent agent who is...</td>\n",
              "    </tr>\n",
              "    <tr>\n",
              "      <th>3</th>\n",
              "      <td>Good Dick</td>\n",
              "      <td>wingedheartart</td>\n",
              "      <td>1</td>\n",
              "      <td>female</td>\n",
              "      <td>misc</td>\n",
              "      <td>2009</td>\n",
              "      <td>6.0</td>\n",
              "      <td>I always check the spoiler box, just in case.T...</td>\n",
              "    </tr>\n",
              "    <tr>\n",
              "      <th>4</th>\n",
              "      <td>Frygtelig lykkelig</td>\n",
              "      <td>chapsmack</td>\n",
              "      <td>0</td>\n",
              "      <td>male</td>\n",
              "      <td>crime</td>\n",
              "      <td>2009</td>\n",
              "      <td>NaN</td>\n",
              "      <td>Nicely done. I am glad I picked this one out. ...</td>\n",
              "    </tr>\n",
              "    <tr>\n",
              "      <th>...</th>\n",
              "      <td>...</td>\n",
              "      <td>...</td>\n",
              "      <td>...</td>\n",
              "      <td>...</td>\n",
              "      <td>...</td>\n",
              "      <td>...</td>\n",
              "      <td>...</td>\n",
              "      <td>...</td>\n",
              "    </tr>\n",
              "    <tr>\n",
              "      <th>2363</th>\n",
              "      <td>The Bank Job</td>\n",
              "      <td>jemps918</td>\n",
              "      <td>0</td>\n",
              "      <td>male</td>\n",
              "      <td>crime</td>\n",
              "      <td>2008</td>\n",
              "      <td>5.0</td>\n",
              "      <td>Having been weaned on The Italian Job, Thomas ...</td>\n",
              "    </tr>\n",
              "    <tr>\n",
              "      <th>2364</th>\n",
              "      <td>The Bank Job</td>\n",
              "      <td>prbt</td>\n",
              "      <td>0</td>\n",
              "      <td>male</td>\n",
              "      <td>crime</td>\n",
              "      <td>2008</td>\n",
              "      <td>6.0</td>\n",
              "      <td>I liked the film to start with - bit cheeky, t...</td>\n",
              "    </tr>\n",
              "    <tr>\n",
              "      <th>2365</th>\n",
              "      <td>La siciliana ribelle</td>\n",
              "      <td>ricardodiazsoto</td>\n",
              "      <td>1</td>\n",
              "      <td>female</td>\n",
              "      <td>crime</td>\n",
              "      <td>2010</td>\n",
              "      <td>NaN</td>\n",
              "      <td>While this film adds one of the faces that cou...</td>\n",
              "    </tr>\n",
              "    <tr>\n",
              "      <th>2366</th>\n",
              "      <td>The Secret Life of Bees</td>\n",
              "      <td>johnstonjames</td>\n",
              "      <td>1</td>\n",
              "      <td>female</td>\n",
              "      <td>drama</td>\n",
              "      <td>2010</td>\n",
              "      <td>8.0</td>\n",
              "      <td>Wow. This was a really good movie. The only re...</td>\n",
              "    </tr>\n",
              "    <tr>\n",
              "      <th>2367</th>\n",
              "      <td>Four Christmases</td>\n",
              "      <td>firstalittlebackstory</td>\n",
              "      <td>1</td>\n",
              "      <td>female</td>\n",
              "      <td>comedy</td>\n",
              "      <td>2009</td>\n",
              "      <td>2.0</td>\n",
              "      <td>Brad and Kate, an urbanite unmarried couple wi...</td>\n",
              "    </tr>\n",
              "  </tbody>\n",
              "</table>\n",
              "<p>2368 rows × 8 columns</p>\n",
              "</div>"
            ],
            "text/plain": [
              "                                film.title  ...                                            content\n",
              "0       What Happens in Vegas               ...  The story behind this Romantic Comedy is that ...\n",
              "1                 Untraceable               ...  This story of a crazed killer using hits on a ...\n",
              "2                   Get Smart               ...  This film is about an incompetent agent who is...\n",
              "3                   Good Dick               ...  I always check the spoiler box, just in case.T...\n",
              "4          Frygtelig lykkelig               ...  Nicely done. I am glad I picked this one out. ...\n",
              "...                                    ...  ...                                                ...\n",
              "2363             The Bank Job               ...  Having been weaned on The Italian Job, Thomas ...\n",
              "2364             The Bank Job               ...  I liked the film to start with - bit cheeky, t...\n",
              "2365     La siciliana ribelle               ...  While this film adds one of the faces that cou...\n",
              "2366  The Secret Life of Bees               ...  Wow. This was a really good movie. The only re...\n",
              "2367         Four Christmases               ...  Brad and Kate, an urbanite unmarried couple wi...\n",
              "\n",
              "[2368 rows x 8 columns]"
            ]
          },
          "metadata": {},
          "execution_count": 48
        }
      ]
    },
    {
      "cell_type": "code",
      "metadata": {
        "id": "1vzcNWEmq7zb"
      },
      "source": [
        "# Read the text for classification\n",
        "text = []\n",
        "#for i in range(0, len(raw_data['content'])):\n",
        "for i in range(0, 1900):      # first 1000 observations for training; we could have used more or all of them\n",
        "  text.append(raw_data['content'][i])"
      ],
      "execution_count": null,
      "outputs": []
    },
    {
      "cell_type": "code",
      "metadata": {
        "id": "fhOJBOsIq77v"
      },
      "source": [
        "# Read the labels \n",
        "labels = []\n",
        "#for i in range(0, len(raw_data['target'])):\n",
        "for i in range(0, 1900):      # first 1000 observations for training; we could have used more or all of them\n",
        "  labels.append(raw_data['target'][i])"
      ],
      "execution_count": null,
      "outputs": []
    },
    {
      "cell_type": "code",
      "metadata": {
        "id": "L1JISicivM_J"
      },
      "source": [
        "target_name = ['female','male']"
      ],
      "execution_count": null,
      "outputs": []
    },
    {
      "cell_type": "markdown",
      "metadata": {
        "id": "HyXMy2_npigb"
      },
      "source": [
        "## Text Classification with Keras"
      ]
    },
    {
      "cell_type": "code",
      "metadata": {
        "id": "nSLkXvfvp6KY"
      },
      "source": [
        "import ktrain\n",
        "from ktrain import text as ktext\n",
        "from sklearn.model_selection import train_test_split"
      ],
      "execution_count": null,
      "outputs": []
    },
    {
      "cell_type": "markdown",
      "metadata": {
        "id": "CXMhdjjHuhON"
      },
      "source": [
        "### Forming the train and test sets"
      ]
    },
    {
      "cell_type": "code",
      "metadata": {
        "id": "yV7ByYhpuAHY"
      },
      "source": [
        "# We first split the original data into train and test set\n",
        "X_train, X_test, y_train, y_test = train_test_split(text, labels, random_state = 0)     #random state is like random seed"
      ],
      "execution_count": null,
      "outputs": []
    },
    {
      "cell_type": "markdown",
      "metadata": {
        "id": "YsSJIMZwumpe"
      },
      "source": [
        "### Preprocess Data"
      ]
    },
    {
      "cell_type": "markdown",
      "metadata": {
        "id": "NSo8aRHrbfzI"
      },
      "source": [
        "Notice that we use distilbert in the next chunk of code where we pre-process the texts. We'd have to use the same mode (distilbert or roBERta or gpt) in the training of the model as we do in the pre-process stage.\n",
        "If we wanted use a different kind of model (such as roBERTa instead of distilbert) we'd change the preprocess_mode argument in the following chunk of code. Of course, we'd have to check the documentation of the function to make sure the mode we want to use is supported. "
      ]
    },
    {
      "cell_type": "code",
      "metadata": {
        "colab": {
          "base_uri": "https://localhost:8080/",
          "height": 255
        },
        "id": "Ukp2tYwcp9tF",
        "outputId": "0fc6b40a-4981-439b-e729-6d8fb1076cfc"
      },
      "source": [
        "trn, val, preproc = ktext.texts_from_array(x_train=X_train, y_train=y_train,\n",
        "                                          x_test=X_test, y_test=y_test,\n",
        "                                          class_names = target_name,\n",
        "                                          preprocess_mode='distilbert',\n",
        "                                          maxlen=128)"
      ],
      "execution_count": null,
      "outputs": [
        {
          "output_type": "stream",
          "text": [
            "preprocessing train...\n",
            "language: en\n",
            "train sequence lengths:\n",
            "\tmean : 331\n",
            "\t95percentile : 833\n",
            "\t99percentile : 977\n"
          ],
          "name": "stdout"
        },
        {
          "output_type": "display_data",
          "data": {
            "text/html": [
              ""
            ],
            "text/plain": [
              "<IPython.core.display.HTML object>"
            ]
          },
          "metadata": {}
        },
        {
          "output_type": "stream",
          "text": [
            "Is Multi-Label? False\n",
            "preprocessing test...\n",
            "language: en\n",
            "test sequence lengths:\n",
            "\tmean : 320\n",
            "\t95percentile : 806\n",
            "\t99percentile : 969\n"
          ],
          "name": "stdout"
        },
        {
          "output_type": "display_data",
          "data": {
            "text/html": [
              ""
            ],
            "text/plain": [
              "<IPython.core.display.HTML object>"
            ]
          },
          "metadata": {}
        },
        {
          "output_type": "stream",
          "text": [
            "task: text classification\n"
          ],
          "name": "stdout"
        }
      ]
    },
    {
      "cell_type": "markdown",
      "metadata": {
        "id": "Esed0j3guqCR"
      },
      "source": [
        "### Building a Model and a Learner\n",
        "\n",
        "\n",
        "\n",
        "\n",
        "\n"
      ]
    },
    {
      "cell_type": "code",
      "metadata": {
        "colab": {
          "base_uri": "https://localhost:8080/"
        },
        "id": "RnAl1pFZrBUU",
        "outputId": "173ea44e-6f03-4c68-dbfd-6ec23b02c965"
      },
      "source": [
        "model = ktext.text_classifier('distilbert', train_data=trn, preproc=preproc)"
      ],
      "execution_count": null,
      "outputs": [
        {
          "output_type": "stream",
          "text": [
            "Is Multi-Label? False\n",
            "maxlen is 128\n",
            "done.\n"
          ],
          "name": "stdout"
        }
      ]
    },
    {
      "cell_type": "markdown",
      "metadata": {
        "id": "vlX9xiZNdczm"
      },
      "source": [
        "Batch size is hyperparameters -> how many datapoints we can analyze simultaneously and it depends on our memory size."
      ]
    },
    {
      "cell_type": "code",
      "metadata": {
        "id": "LP81JAEmrdhr"
      },
      "source": [
        "learner = ktrain.get_learner(model, train_data=trn, val_data=val, batch_size=16)"
      ],
      "execution_count": null,
      "outputs": []
    },
    {
      "cell_type": "markdown",
      "metadata": {
        "id": "DAsW335dvpj7"
      },
      "source": [
        "### Train the Model"
      ]
    },
    {
      "cell_type": "markdown",
      "metadata": {
        "id": "ZTSOOB1Yf6qd"
      },
      "source": [
        "Epoch is similar to 'passes' we saw in the topic modelling section (sort of like bootstrapping for nlp)"
      ]
    },
    {
      "cell_type": "code",
      "metadata": {
        "colab": {
          "base_uri": "https://localhost:8080/"
        },
        "id": "qYmIsNX_voTC",
        "outputId": "18e2b111-296f-4e43-bce8-8cd50b6cdda9"
      },
      "source": [
        "learner.fit_onecycle(3e-5, 4)"
      ],
      "execution_count": null,
      "outputs": [
        {
          "output_type": "stream",
          "text": [
            "\n",
            "\n",
            "begin training using onecycle policy with max lr of 3e-05...\n",
            "Epoch 1/4\n",
            "90/90 [==============================] - 51s 463ms/step - loss: 0.6686 - accuracy: 0.5846 - val_loss: 0.5306 - val_accuracy: 0.7705\n",
            "Epoch 2/4\n",
            "90/90 [==============================] - 41s 449ms/step - loss: 0.4218 - accuracy: 0.8211 - val_loss: 0.3573 - val_accuracy: 0.8463\n",
            "Epoch 3/4\n",
            "90/90 [==============================] - 41s 450ms/step - loss: 0.2109 - accuracy: 0.9221 - val_loss: 0.2935 - val_accuracy: 0.8758\n",
            "Epoch 4/4\n",
            "90/90 [==============================] - 41s 450ms/step - loss: 0.0822 - accuracy: 0.9796 - val_loss: 0.3386 - val_accuracy: 0.8779\n"
          ],
          "name": "stdout"
        },
        {
          "output_type": "execute_result",
          "data": {
            "text/plain": [
              "<keras.callbacks.History at 0x7fc4d78bf650>"
            ]
          },
          "metadata": {},
          "execution_count": 57
        }
      ]
    },
    {
      "cell_type": "markdown",
      "metadata": {
        "id": "ELUtk1qbvvxf"
      },
      "source": [
        "### Predict on New Data"
      ]
    },
    {
      "cell_type": "code",
      "metadata": {
        "colab": {
          "base_uri": "https://localhost:8080/",
          "height": 35
        },
        "id": "7OKa3q6_v0Qm",
        "outputId": "a1306964-2121-462a-d83c-919ab461e887"
      },
      "source": [
        "p = ktrain.get_predictor(model, preproc)\n",
        "\n",
        "#p.predict(\"I need some help with my Macbook.\")\n",
        "# the above sentence after p.predict is the text we ask the model to predict the label of\n",
        "# another example\n",
        "p.predict(\"the protagonist goes through several steps before she admits that she needs help from others.\")"
      ],
      "execution_count": null,
      "outputs": [
        {
          "output_type": "execute_result",
          "data": {
            "application/vnd.google.colaboratory.intrinsic+json": {
              "type": "string"
            },
            "text/plain": [
              "'male'"
            ]
          },
          "metadata": {},
          "execution_count": 59
        }
      ]
    },
    {
      "cell_type": "markdown",
      "metadata": {
        "id": "Ii3tksfZpoTA"
      },
      "source": [
        "## (Optional) Text Classification with Sklearn"
      ]
    },
    {
      "cell_type": "markdown",
      "metadata": {
        "id": "iOn3PQ5DWYPU"
      },
      "source": [
        "### Text Representation\n",
        "\n",
        "The first step is to represent text with vectors/features such as bag-of-words, tf-idf features.  Here we will use extract tf-idf features as an example. More features could be found here: https://scikit-learn.org/stable/modules/classes.html#module-sklearn.feature_extraction.text"
      ]
    },
    {
      "cell_type": "code",
      "metadata": {
        "id": "fc55Us8OWZPD"
      },
      "source": [
        "from sklearn.feature_extraction.text import TfidfVectorizer\n",
        "tfidf = TfidfVectorizer(ngram_range=(1, 2), stop_words='english')"
      ],
      "execution_count": null,
      "outputs": []
    },
    {
      "cell_type": "code",
      "metadata": {
        "id": "D-DnkCZJXJat"
      },
      "source": [
        "features = tfidf.fit_transform(text)"
      ],
      "execution_count": null,
      "outputs": []
    },
    {
      "cell_type": "code",
      "metadata": {
        "colab": {
          "base_uri": "https://localhost:8080/"
        },
        "id": "CBE0w7ACYTXp",
        "outputId": "600c8e20-ab1c-49de-9da9-7f3b7019df42"
      },
      "source": [
        "features.shape"
      ],
      "execution_count": null,
      "outputs": [
        {
          "output_type": "execute_result",
          "data": {
            "text/plain": [
              "(11314, 1186545)"
            ]
          },
          "metadata": {
            "tags": []
          },
          "execution_count": 33
        }
      ]
    },
    {
      "cell_type": "markdown",
      "metadata": {
        "id": "9ppFihrQfp4W"
      },
      "source": [
        "### Learning the Classification Model\n",
        "\n",
        "There are many different models in sklearn such as Naive Bayes Classifier, Logistic Regression Classifier, Linear Support Vector Machine, and etc. Here we use Logistic Regression Classifier as an example. More details cound be found here: https://scikit-learn.org/stable/supervised_learning.html#supervised-learning"
      ]
    },
    {
      "cell_type": "code",
      "metadata": {
        "id": "sjhGK12vhDBh"
      },
      "source": [
        "from sklearn.model_selection import train_test_split\n",
        "from sklearn.feature_extraction.text import TfidfVectorizer\n",
        "\n",
        "# We first split the original data into train and test set\n",
        "X_train, X_test, y_train, y_test = train_test_split(text, labels, random_state = 0)\n",
        "\n",
        "# Extract features\n",
        "tfidf = TfidfVectorizer(ngram_range=(1, 2), stop_words='english')\n",
        "tfidf.fit(X_train)\n",
        "X_train_features = tfidf.transform(X_train)\n",
        "\n",
        "X_test_features = tfidf.transform(X_test)"
      ],
      "execution_count": null,
      "outputs": []
    },
    {
      "cell_type": "code",
      "metadata": {
        "id": "74n4ZZvBg1Gb"
      },
      "source": [
        "# Bayes Classifier\n",
        "from sklearn.naive_bayes import MultinomialNB\n",
        "# Logistic Regression Classifier\n",
        "from sklearn.linear_model import LogisticRegression\n",
        "# Linear Support Vector Machine\n",
        "from sklearn.svm import LinearSVC\n",
        "\n",
        "clf = LogisticRegression().fit(X_train_features, y_train)"
      ],
      "execution_count": null,
      "outputs": []
    },
    {
      "cell_type": "markdown",
      "metadata": {
        "id": "U2U_Dxg_qNBp"
      },
      "source": [
        "### Evaluating the Classification Model"
      ]
    },
    {
      "cell_type": "code",
      "metadata": {
        "id": "FXcrO5MQhCSz"
      },
      "source": [
        "from sklearn.metrics import accuracy_score\n",
        "from sklearn.metrics import f1_score\n",
        "\n",
        "# predict labels for test data\n",
        "y_pred = clf.predict(X_test_features)"
      ],
      "execution_count": null,
      "outputs": []
    },
    {
      "cell_type": "code",
      "metadata": {
        "colab": {
          "base_uri": "https://localhost:8080/"
        },
        "id": "A7XxNf3Fra1g",
        "outputId": "288962cb-5e9a-44af-97a6-9ba642658d20"
      },
      "source": [
        "from sklearn.metrics import accuracy_score\n",
        "from sklearn.metrics import f1_score\n",
        "\n",
        "accuracy_score(y_test, y_pred)"
      ],
      "execution_count": null,
      "outputs": [
        {
          "output_type": "execute_result",
          "data": {
            "text/plain": [
              "0.9020855425945564"
            ]
          },
          "metadata": {
            "tags": []
          },
          "execution_count": 43
        }
      ]
    },
    {
      "cell_type": "code",
      "metadata": {
        "colab": {
          "base_uri": "https://localhost:8080/"
        },
        "id": "GnDmjFNIACap",
        "outputId": "54db927e-3e65-478b-84c5-6b74343dba47"
      },
      "source": [
        "f1_score(y_test, y_pred, average='macro')"
      ],
      "execution_count": null,
      "outputs": [
        {
          "output_type": "execute_result",
          "data": {
            "text/plain": [
              "0.8999629673074958"
            ]
          },
          "metadata": {
            "tags": []
          },
          "execution_count": 45
        }
      ]
    },
    {
      "cell_type": "code",
      "metadata": {
        "colab": {
          "base_uri": "https://localhost:8080/"
        },
        "id": "aJgJxb9NAEre",
        "outputId": "62127972-ad63-4bb8-806b-73a2ff50ee78"
      },
      "source": [
        "f1_score(y_test, y_pred, average='micro')"
      ],
      "execution_count": null,
      "outputs": [
        {
          "output_type": "execute_result",
          "data": {
            "text/plain": [
              "0.9020855425945564"
            ]
          },
          "metadata": {
            "tags": []
          },
          "execution_count": 46
        }
      ]
    },
    {
      "cell_type": "code",
      "metadata": {
        "id": "1STo7mylALUz"
      },
      "source": [
        ""
      ],
      "execution_count": null,
      "outputs": []
    },
    {
      "cell_type": "markdown",
      "metadata": {
        "id": "R6HaX33KMvvB"
      },
      "source": [
        "# Exercise: Text Classification\n",
        "\n",
        "You could first follow the example above and apply the codes to the hate-speech classification task. \n",
        "\n",
        "\n",
        "\n",
        "***WARNING: The data, lexicons, and notebooks all contain content that is racist, sexist, homophobic, and offensive in many other ways. ***\n",
        "\n"
      ]
    },
    {
      "cell_type": "markdown",
      "metadata": {
        "id": "rL8qxxC4QKUO"
      },
      "source": [
        "First, let's download the dataset first.\n",
        "\n",
        "The dataset is from `Thomas Davidson, Dana Warmsley, Michael Macy, and Ingmar Weber. 2017. \"Automated Hate Speech Detection and the Problem of Offensive Language.\" ICWSM`\n",
        "\n",
        "More details could be found here: https://github.com/t-davidson/hate-speech-and-offensive-language"
      ]
    },
    {
      "cell_type": "code",
      "metadata": {
        "colab": {
          "base_uri": "https://localhost:8080/"
        },
        "id": "rLDcq25hQYTZ",
        "outputId": "f9f602d4-7500-4890-8207-5cda130aa283"
      },
      "source": [
        "!git clone https://github.com/t-davidson/hate-speech-and-offensive-language.git"
      ],
      "execution_count": null,
      "outputs": [
        {
          "output_type": "stream",
          "text": [
            "Cloning into 'hate-speech-and-offensive-language'...\n",
            "remote: Enumerating objects: 41, done.\u001b[K\n",
            "remote: Counting objects: 100% (9/9), done.\u001b[K\n",
            "remote: Compressing objects: 100% (9/9), done.\u001b[K\n",
            "remote: Total 41 (delta 4), reused 0 (delta 0), pack-reused 32\u001b[K\n",
            "Unpacking objects: 100% (41/41), done.\n"
          ],
          "name": "stdout"
        }
      ]
    },
    {
      "cell_type": "code",
      "metadata": {
        "id": "4EldPnjCQbMB"
      },
      "source": [
        "import pandas as pd\n",
        "raw_data = pd.read_csv('./hate-speech-and-offensive-language/data/labeled_data.csv')"
      ],
      "execution_count": null,
      "outputs": []
    },
    {
      "cell_type": "code",
      "metadata": {
        "colab": {
          "base_uri": "https://localhost:8080/",
          "height": 419
        },
        "id": "wV1c_--aQlf_",
        "outputId": "0efc8cc4-48ad-4afc-b649-7667d499010b"
      },
      "source": [
        "raw_data"
      ],
      "execution_count": null,
      "outputs": [
        {
          "output_type": "execute_result",
          "data": {
            "text/html": [
              "<div>\n",
              "<style scoped>\n",
              "    .dataframe tbody tr th:only-of-type {\n",
              "        vertical-align: middle;\n",
              "    }\n",
              "\n",
              "    .dataframe tbody tr th {\n",
              "        vertical-align: top;\n",
              "    }\n",
              "\n",
              "    .dataframe thead th {\n",
              "        text-align: right;\n",
              "    }\n",
              "</style>\n",
              "<table border=\"1\" class=\"dataframe\">\n",
              "  <thead>\n",
              "    <tr style=\"text-align: right;\">\n",
              "      <th></th>\n",
              "      <th>Unnamed: 0</th>\n",
              "      <th>count</th>\n",
              "      <th>hate_speech</th>\n",
              "      <th>offensive_language</th>\n",
              "      <th>neither</th>\n",
              "      <th>class</th>\n",
              "      <th>tweet</th>\n",
              "    </tr>\n",
              "  </thead>\n",
              "  <tbody>\n",
              "    <tr>\n",
              "      <th>0</th>\n",
              "      <td>0</td>\n",
              "      <td>3</td>\n",
              "      <td>0</td>\n",
              "      <td>0</td>\n",
              "      <td>3</td>\n",
              "      <td>2</td>\n",
              "      <td>!!! RT @mayasolovely: As a woman you shouldn't...</td>\n",
              "    </tr>\n",
              "    <tr>\n",
              "      <th>1</th>\n",
              "      <td>1</td>\n",
              "      <td>3</td>\n",
              "      <td>0</td>\n",
              "      <td>3</td>\n",
              "      <td>0</td>\n",
              "      <td>1</td>\n",
              "      <td>!!!!! RT @mleew17: boy dats cold...tyga dwn ba...</td>\n",
              "    </tr>\n",
              "    <tr>\n",
              "      <th>2</th>\n",
              "      <td>2</td>\n",
              "      <td>3</td>\n",
              "      <td>0</td>\n",
              "      <td>3</td>\n",
              "      <td>0</td>\n",
              "      <td>1</td>\n",
              "      <td>!!!!!!! RT @UrKindOfBrand Dawg!!!! RT @80sbaby...</td>\n",
              "    </tr>\n",
              "    <tr>\n",
              "      <th>3</th>\n",
              "      <td>3</td>\n",
              "      <td>3</td>\n",
              "      <td>0</td>\n",
              "      <td>2</td>\n",
              "      <td>1</td>\n",
              "      <td>1</td>\n",
              "      <td>!!!!!!!!! RT @C_G_Anderson: @viva_based she lo...</td>\n",
              "    </tr>\n",
              "    <tr>\n",
              "      <th>4</th>\n",
              "      <td>4</td>\n",
              "      <td>6</td>\n",
              "      <td>0</td>\n",
              "      <td>6</td>\n",
              "      <td>0</td>\n",
              "      <td>1</td>\n",
              "      <td>!!!!!!!!!!!!! RT @ShenikaRoberts: The shit you...</td>\n",
              "    </tr>\n",
              "    <tr>\n",
              "      <th>...</th>\n",
              "      <td>...</td>\n",
              "      <td>...</td>\n",
              "      <td>...</td>\n",
              "      <td>...</td>\n",
              "      <td>...</td>\n",
              "      <td>...</td>\n",
              "      <td>...</td>\n",
              "    </tr>\n",
              "    <tr>\n",
              "      <th>24778</th>\n",
              "      <td>25291</td>\n",
              "      <td>3</td>\n",
              "      <td>0</td>\n",
              "      <td>2</td>\n",
              "      <td>1</td>\n",
              "      <td>1</td>\n",
              "      <td>you's a muthaf***in lie &amp;#8220;@LifeAsKing: @2...</td>\n",
              "    </tr>\n",
              "    <tr>\n",
              "      <th>24779</th>\n",
              "      <td>25292</td>\n",
              "      <td>3</td>\n",
              "      <td>0</td>\n",
              "      <td>1</td>\n",
              "      <td>2</td>\n",
              "      <td>2</td>\n",
              "      <td>you've gone and broke the wrong heart baby, an...</td>\n",
              "    </tr>\n",
              "    <tr>\n",
              "      <th>24780</th>\n",
              "      <td>25294</td>\n",
              "      <td>3</td>\n",
              "      <td>0</td>\n",
              "      <td>3</td>\n",
              "      <td>0</td>\n",
              "      <td>1</td>\n",
              "      <td>young buck wanna eat!!.. dat nigguh like I ain...</td>\n",
              "    </tr>\n",
              "    <tr>\n",
              "      <th>24781</th>\n",
              "      <td>25295</td>\n",
              "      <td>6</td>\n",
              "      <td>0</td>\n",
              "      <td>6</td>\n",
              "      <td>0</td>\n",
              "      <td>1</td>\n",
              "      <td>youu got wild bitches tellin you lies</td>\n",
              "    </tr>\n",
              "    <tr>\n",
              "      <th>24782</th>\n",
              "      <td>25296</td>\n",
              "      <td>3</td>\n",
              "      <td>0</td>\n",
              "      <td>0</td>\n",
              "      <td>3</td>\n",
              "      <td>2</td>\n",
              "      <td>~~Ruffled | Ntac Eileen Dahlia - Beautiful col...</td>\n",
              "    </tr>\n",
              "  </tbody>\n",
              "</table>\n",
              "<p>24783 rows × 7 columns</p>\n",
              "</div>"
            ],
            "text/plain": [
              "       Unnamed: 0  ...                                              tweet\n",
              "0               0  ...  !!! RT @mayasolovely: As a woman you shouldn't...\n",
              "1               1  ...  !!!!! RT @mleew17: boy dats cold...tyga dwn ba...\n",
              "2               2  ...  !!!!!!! RT @UrKindOfBrand Dawg!!!! RT @80sbaby...\n",
              "3               3  ...  !!!!!!!!! RT @C_G_Anderson: @viva_based she lo...\n",
              "4               4  ...  !!!!!!!!!!!!! RT @ShenikaRoberts: The shit you...\n",
              "...           ...  ...                                                ...\n",
              "24778       25291  ...  you's a muthaf***in lie &#8220;@LifeAsKing: @2...\n",
              "24779       25292  ...  you've gone and broke the wrong heart baby, an...\n",
              "24780       25294  ...  young buck wanna eat!!.. dat nigguh like I ain...\n",
              "24781       25295  ...              youu got wild bitches tellin you lies\n",
              "24782       25296  ...  ~~Ruffled | Ntac Eileen Dahlia - Beautiful col...\n",
              "\n",
              "[24783 rows x 7 columns]"
            ]
          },
          "metadata": {
            "tags": []
          },
          "execution_count": 29
        }
      ]
    },
    {
      "cell_type": "markdown",
      "metadata": {
        "id": "bDESnXEKQr4-"
      },
      "source": [
        "*count* = number of CrowdFlower users who coded each tweet (min is 3, sometimes more users coded a tweet when judgments were determined to be unreliable by CF).\n",
        "\n",
        "*hate_speech* = number of CF users who judged the tweet to be hate speech.\n",
        "\n",
        "*offensive_language* = number of CF users who judged the tweet to be offensive.\n",
        "\n",
        "*neither* = number of CF users who judged the tweet to be neither offensive nor non-offensive.\n",
        "\n",
        "*class* = class label for majority of CF users. 0 - hate speech 1 - offensive language 2 - neither"
      ]
    },
    {
      "cell_type": "code",
      "metadata": {
        "id": "9F-hHIS1Qmmh"
      },
      "source": [
        "# Read the text for classification\n",
        "text = []\n",
        "for i in range(0, len(raw_data['tweet'])):\n",
        "  text.append(raw_data['tweet'][i])\n",
        "\n",
        "# Read the labels \n",
        "labels = []\n",
        "for i in range(0, len(raw_data['class'])):\n",
        "  labels.append(raw_data['class'][i])\n",
        "\n",
        "target_name = ['hate speech', 'offensive language', 'neither']"
      ],
      "execution_count": null,
      "outputs": []
    },
    {
      "cell_type": "code",
      "metadata": {
        "id": "RMrUpiAiQ8S_"
      },
      "source": [
        ""
      ],
      "execution_count": null,
      "outputs": []
    },
    {
      "cell_type": "code",
      "metadata": {
        "id": "oWfkECNvh6DO"
      },
      "source": [
        "target_name = ['hate speech',\n",
        " 'offensive language',\n",
        " 'neither',"
      ],
      "execution_count": null,
      "outputs": []
    },
    {
      "cell_type": "markdown",
      "metadata": {
        "id": "jrinfJnSiMV0"
      },
      "source": [
        "Text Classification with Keras"
      ]
    },
    {
      "cell_type": "code",
      "metadata": {
        "id": "lqupOZ2WiTkY"
      },
      "source": [
        "import ktrain\n",
        "from ktrain import text as ktext\n",
        "from sklearn.model_selection import train_test_split"
      ],
      "execution_count": null,
      "outputs": []
    },
    {
      "cell_type": "markdown",
      "metadata": {
        "id": "zf9sGAg4icot"
      },
      "source": [
        "Forming the Train and Test Tests"
      ]
    },
    {
      "cell_type": "code",
      "metadata": {
        "id": "lc51JwrTiXe9"
      },
      "source": [
        "# We first split the original data into train and test set\n",
        "X_train, X_test, y_train, y_test = train_test_split(text, labels, random_state = 0)     #random state is like random seed"
      ],
      "execution_count": null,
      "outputs": []
    },
    {
      "cell_type": "markdown",
      "metadata": {
        "id": "6mTTANFbiqNs"
      },
      "source": [
        "Preprocess Data\n",
        "- i could try using 'bert' instead of 'distilbert' here"
      ]
    },
    {
      "cell_type": "code",
      "metadata": {
        "colab": {
          "base_uri": "https://localhost:8080/",
          "height": 255
        },
        "id": "WN3QY678i3xt",
        "outputId": "0081fd16-8b35-499f-c1ee-069a2c78307f"
      },
      "source": [
        "trn, val, preproc = ktext.texts_from_array(x_train=X_train, y_train=y_train,\n",
        "                                          x_test=X_test, y_test=y_test,\n",
        "                                          class_names = target_name,\n",
        "                                          preprocess_mode='distilbert',\n",
        "                                          maxlen=128)"
      ],
      "execution_count": null,
      "outputs": [
        {
          "output_type": "stream",
          "text": [
            "preprocessing train...\n",
            "language: en\n",
            "train sequence lengths:\n",
            "\tmean : 14\n",
            "\t95percentile : 26\n",
            "\t99percentile : 29\n"
          ],
          "name": "stdout"
        },
        {
          "output_type": "display_data",
          "data": {
            "text/html": [
              ""
            ],
            "text/plain": [
              "<IPython.core.display.HTML object>"
            ]
          },
          "metadata": {
            "tags": []
          }
        },
        {
          "output_type": "stream",
          "text": [
            "Is Multi-Label? False\n",
            "preprocessing test...\n",
            "language: en\n",
            "test sequence lengths:\n",
            "\tmean : 14\n",
            "\t95percentile : 26\n",
            "\t99percentile : 29\n"
          ],
          "name": "stdout"
        },
        {
          "output_type": "display_data",
          "data": {
            "text/html": [
              ""
            ],
            "text/plain": [
              "<IPython.core.display.HTML object>"
            ]
          },
          "metadata": {
            "tags": []
          }
        },
        {
          "output_type": "stream",
          "text": [
            "task: text classification\n"
          ],
          "name": "stdout"
        }
      ]
    },
    {
      "cell_type": "markdown",
      "metadata": {
        "id": "YZ2R-JWCjIR3"
      },
      "source": [
        "Building a Model and a Learner"
      ]
    },
    {
      "cell_type": "code",
      "metadata": {
        "colab": {
          "base_uri": "https://localhost:8080/"
        },
        "id": "dogrv-lKi-Pi",
        "outputId": "1521bfcb-02c2-4db7-ee86-eb6803f39f4a"
      },
      "source": [
        "model = ktext.text_classifier('distilbert', train_data=trn, preproc=preproc)"
      ],
      "execution_count": null,
      "outputs": [
        {
          "output_type": "stream",
          "text": [
            "Is Multi-Label? False\n",
            "maxlen is 128\n",
            "done.\n"
          ],
          "name": "stdout"
        }
      ]
    },
    {
      "cell_type": "code",
      "metadata": {
        "id": "YuJztTLHjhaw"
      },
      "source": [
        "learner = ktrain.get_learner(model, train_data=trn, val_data=val, batch_size=16)"
      ],
      "execution_count": null,
      "outputs": []
    },
    {
      "cell_type": "markdown",
      "metadata": {
        "id": "RTiMm_gcjjOQ"
      },
      "source": [
        "Train the Model"
      ]
    },
    {
      "cell_type": "code",
      "metadata": {
        "colab": {
          "base_uri": "https://localhost:8080/"
        },
        "id": "Pqtsw4OVjpsn",
        "outputId": "f73fbe40-bac4-41b7-e4ca-2d212478e770"
      },
      "source": [
        "learner.fit_onecycle(3e-5, 4)"
      ],
      "execution_count": null,
      "outputs": [
        {
          "output_type": "stream",
          "text": [
            "\n",
            "\n",
            "begin training using onecycle policy with max lr of 3e-05...\n",
            "Epoch 1/4\n",
            "1162/1162 [==============================] - 281s 232ms/step - loss: 0.3763 - accuracy: 0.8701 - val_loss: 0.2499 - val_accuracy: 0.9109\n",
            "Epoch 2/4\n",
            "1162/1162 [==============================] - 272s 231ms/step - loss: 0.2348 - accuracy: 0.9173 - val_loss: 0.2439 - val_accuracy: 0.9172\n",
            "Epoch 3/4\n",
            "1162/1162 [==============================] - 272s 231ms/step - loss: 0.1869 - accuracy: 0.9305 - val_loss: 0.2411 - val_accuracy: 0.9175\n",
            "Epoch 4/4\n",
            "1162/1162 [==============================] - 272s 231ms/step - loss: 0.1154 - accuracy: 0.9589 - val_loss: 0.2838 - val_accuracy: 0.9140\n"
          ],
          "name": "stdout"
        },
        {
          "output_type": "execute_result",
          "data": {
            "text/plain": [
              "<tensorflow.python.keras.callbacks.History at 0x7fd0d76681d0>"
            ]
          },
          "metadata": {
            "tags": []
          },
          "execution_count": 36
        }
      ]
    },
    {
      "cell_type": "markdown",
      "metadata": {
        "id": "0Knzqa19leZ6"
      },
      "source": [
        "Predict on New Data"
      ]
    },
    {
      "cell_type": "code",
      "metadata": {
        "colab": {
          "base_uri": "https://localhost:8080/",
          "height": 35
        },
        "id": "ACBQKKcElhLD",
        "outputId": "a2079109-0b71-4cd4-c1d5-6420ad43c912"
      },
      "source": [
        "p = ktrain.get_predictor(model, preproc)\n",
        "\n",
        "p.predict(\"They are very racist\")\n",
        "# the above sentence after p.predict is the text we ask the model to predict the label of\n",
        "# another example\n",
        "# p.predict(\"this movie is not good at all and certainly not good for me\")"
      ],
      "execution_count": null,
      "outputs": [
        {
          "output_type": "execute_result",
          "data": {
            "application/vnd.google.colaboratory.intrinsic+json": {
              "type": "string"
            },
            "text/plain": [
              "'hate speech'"
            ]
          },
          "metadata": {
            "tags": []
          },
          "execution_count": 45
        }
      ]
    }
  ]
}